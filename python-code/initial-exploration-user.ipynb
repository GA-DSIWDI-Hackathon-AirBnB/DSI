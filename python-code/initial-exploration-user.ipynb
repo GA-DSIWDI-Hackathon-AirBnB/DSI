{
 "cells": [
  {
   "cell_type": "markdown",
   "metadata": {},
   "source": [
    "# Set up notebook"
   ]
  },
  {
   "cell_type": "code",
   "execution_count": 54,
   "metadata": {
    "ExecuteTime": {
     "end_time": "2016-12-06T21:10:37.639318",
     "start_time": "2016-12-06T21:10:37.629457"
    },
    "collapsed": false
   },
   "outputs": [],
   "source": [
    "import numpy as np\n",
    "import pandas as pd\n",
    "from collections import Counter\n",
    "import flask\n",
    "import matplotlib.pyplot as plt\n",
    "import seaborn as sns\n",
    "from sklearn import preprocessing, decomposition\n",
    "from sklearn import metrics, model_selection\n",
    "import xgboost\n",
    "import pickle"
   ]
  },
  {
   "cell_type": "code",
   "execution_count": 2,
   "metadata": {
    "ExecuteTime": {
     "end_time": "2016-12-06T20:37:41.296678",
     "start_time": "2016-12-06T20:37:41.290322"
    },
    "collapsed": false
   },
   "outputs": [],
   "source": [
    "plt.style.use(\"fivethirtyeight\")"
   ]
  },
  {
   "cell_type": "code",
   "execution_count": 3,
   "metadata": {
    "ExecuteTime": {
     "end_time": "2016-12-06T20:37:41.481602",
     "start_time": "2016-12-06T20:37:41.476426"
    },
    "collapsed": false
   },
   "outputs": [],
   "source": [
    "plt.rcParams[\"figure.figsize\"]=[5.0, 3.0]"
   ]
  },
  {
   "cell_type": "code",
   "execution_count": 33,
   "metadata": {
    "ExecuteTime": {
     "end_time": "2016-12-06T20:51:09.134817",
     "start_time": "2016-12-06T20:51:09.129696"
    },
    "collapsed": false
   },
   "outputs": [],
   "source": [
    "pd.set_option(\"max_colwidth\",0)"
   ]
  },
  {
   "cell_type": "markdown",
   "metadata": {},
   "source": [
    "# Load data"
   ]
  },
  {
   "cell_type": "code",
   "execution_count": 34,
   "metadata": {
    "ExecuteTime": {
     "end_time": "2016-12-06T20:51:14.472113",
     "start_time": "2016-12-06T20:51:14.422478"
    },
    "collapsed": false
   },
   "outputs": [],
   "source": [
    "with open(\"../data/airbnb_session_data.txt\", \"r\") as f:\n",
    "    data = [i.strip().split(\"|\") for i in f.readlines()]"
   ]
  },
  {
   "cell_type": "code",
   "execution_count": 35,
   "metadata": {
    "ExecuteTime": {
     "end_time": "2016-12-06T20:51:14.738407",
     "start_time": "2016-12-06T20:51:14.720617"
    },
    "collapsed": false
   },
   "outputs": [],
   "source": [
    "df = pd.DataFrame(data[1:], columns=data[0])"
   ]
  },
  {
   "cell_type": "code",
   "execution_count": 36,
   "metadata": {
    "ExecuteTime": {
     "end_time": "2016-12-06T20:51:15.359117",
     "start_time": "2016-12-06T20:51:15.266501"
    },
    "collapsed": false
   },
   "outputs": [
    {
     "data": {
      "text/html": [
       "<div>\n",
       "<table border=\"1\" class=\"dataframe\">\n",
       "  <thead>\n",
       "    <tr style=\"text-align: right;\">\n",
       "      <th></th>\n",
       "      <th>id_visitor</th>\n",
       "      <th>id_session</th>\n",
       "      <th>dim_session_number</th>\n",
       "      <th>dim_user_agent</th>\n",
       "      <th>dim_device_app_combo</th>\n",
       "      <th>ds</th>\n",
       "      <th>ts_min</th>\n",
       "      <th>ts_max</th>\n",
       "      <th>did_search</th>\n",
       "      <th>sent_message</th>\n",
       "      <th>...</th>\n",
       "      <th>next_id_session</th>\n",
       "      <th>next_dim_session_number</th>\n",
       "      <th>next_dim_user_agent</th>\n",
       "      <th>next_dim_device_app_combo</th>\n",
       "      <th>next_ds</th>\n",
       "      <th>next_ts_min</th>\n",
       "      <th>next_ts_max</th>\n",
       "      <th>next_did_search</th>\n",
       "      <th>next_sent_message</th>\n",
       "      <th>next_sent_booking_request</th>\n",
       "    </tr>\n",
       "  </thead>\n",
       "  <tbody>\n",
       "    <tr>\n",
       "      <th>0</th>\n",
       "      <td>ed1329a6-064d-47e9-93bc-93f5a50822df</td>\n",
       "      <td>a8dfb8ed5aa79e00ff14b2da297c9778</td>\n",
       "      <td>83</td>\n",
       "      <td>Airbnb/6.0 iPhone/8.1.2</td>\n",
       "      <td>iPhone - iOS</td>\n",
       "      <td>2015-02-16</td>\n",
       "      <td>2015-02-16 21:50:41</td>\n",
       "      <td>2015-02-16 22:13:42</td>\n",
       "      <td>0</td>\n",
       "      <td>0</td>\n",
       "      <td>...</td>\n",
       "      <td>b812bf56bf89b0b31f4e5b50d0c15ff8</td>\n",
       "      <td>84</td>\n",
       "      <td>Mozilla/5.0 (Windows NT 6.1; WOW64) AppleWebKit/537.36 (KHTML, like Gecko) Chrome/40.0.2214.115 Safari/537.36</td>\n",
       "      <td>Desktop - Chrome</td>\n",
       "      <td>2015-02-18</td>\n",
       "      <td>2015-02-18 11:57:15</td>\n",
       "      <td>2015-02-18 12:12:48</td>\n",
       "      <td>0</td>\n",
       "      <td>0</td>\n",
       "      <td>0</td>\n",
       "    </tr>\n",
       "    <tr>\n",
       "      <th>1</th>\n",
       "      <td>ed1329a6-064d-47e9-93bc-93f5a50822df</td>\n",
       "      <td>950277daef16f86dc2c05d2b212eea81</td>\n",
       "      <td>84</td>\n",
       "      <td>Mozilla/5.0 (Windows NT 6.1; WOW64) AppleWebKit/537.36 (KHTML, like Gecko) Chrome/40.0.2214.115 Safari/537.36</td>\n",
       "      <td>Desktop - Chrome</td>\n",
       "      <td>2015-02-18</td>\n",
       "      <td>2015-02-18 11:57:15</td>\n",
       "      <td>2015-02-18 12:12:48</td>\n",
       "      <td>0</td>\n",
       "      <td>0</td>\n",
       "      <td>...</td>\n",
       "      <td>456083b5f5506ad125d595006819de1d</td>\n",
       "      <td>85</td>\n",
       "      <td>Mozilla/5.0 (Windows NT 6.1; WOW64) AppleWebKit/537.36 (KHTML, like Gecko) Chrome/40.0.2214.115 Safari/537.36</td>\n",
       "      <td>Desktop - Chrome</td>\n",
       "      <td>2015-02-18</td>\n",
       "      <td>2015-02-18 13:02:13</td>\n",
       "      <td>2015-02-18 13:05:36</td>\n",
       "      <td>0</td>\n",
       "      <td>0</td>\n",
       "      <td>0</td>\n",
       "    </tr>\n",
       "    <tr>\n",
       "      <th>2</th>\n",
       "      <td>ed1329a6-064d-47e9-93bc-93f5a50822df</td>\n",
       "      <td>ee4e2f99dd0c0bef2d40e4bdf880c862</td>\n",
       "      <td>85</td>\n",
       "      <td>Mozilla/5.0 (Windows NT 6.1; WOW64) AppleWebKit/537.36 (KHTML, like Gecko) Chrome/40.0.2214.115 Safari/537.36</td>\n",
       "      <td>Desktop - Chrome</td>\n",
       "      <td>2015-02-18</td>\n",
       "      <td>2015-02-18 13:02:13</td>\n",
       "      <td>2015-02-18 13:05:36</td>\n",
       "      <td>0</td>\n",
       "      <td>0</td>\n",
       "      <td>...</td>\n",
       "      <td>94d30e9f3c8f92ae691e49d77a884777</td>\n",
       "      <td>86</td>\n",
       "      <td>Mozilla/5.0 (Windows NT 6.1; WOW64) AppleWebKit/537.36 (KHTML, like Gecko) Chrome/40.0.2214.115 Safari/537.36</td>\n",
       "      <td>Desktop - Chrome</td>\n",
       "      <td>2015-02-18</td>\n",
       "      <td>2015-02-18 14:18:17</td>\n",
       "      <td>2015-02-18 14:28:47</td>\n",
       "      <td>0</td>\n",
       "      <td>0</td>\n",
       "      <td>0</td>\n",
       "    </tr>\n",
       "    <tr>\n",
       "      <th>3</th>\n",
       "      <td>ed1329a6-064d-47e9-93bc-93f5a50822df</td>\n",
       "      <td>59fbde7b5d35403116c461fa7fc1ab6e</td>\n",
       "      <td>86</td>\n",
       "      <td>Mozilla/5.0 (Windows NT 6.1; WOW64) AppleWebKit/537.36 (KHTML, like Gecko) Chrome/40.0.2214.115 Safari/537.36</td>\n",
       "      <td>Desktop - Chrome</td>\n",
       "      <td>2015-02-18</td>\n",
       "      <td>2015-02-18 14:18:17</td>\n",
       "      <td>2015-02-18 14:28:47</td>\n",
       "      <td>0</td>\n",
       "      <td>0</td>\n",
       "      <td>...</td>\n",
       "      <td>ab02139dc81bea4b126cf5043faf53d9</td>\n",
       "      <td>87</td>\n",
       "      <td>Mozilla/5.0 (Windows NT 6.1; WOW64) AppleWebKit/537.36 (KHTML, like Gecko) Chrome/40.0.2214.115 Safari/537.36</td>\n",
       "      <td>Desktop - Chrome</td>\n",
       "      <td>2015-02-19</td>\n",
       "      <td>2015-02-19 12:24:57</td>\n",
       "      <td>2015-02-19 12:24:59</td>\n",
       "      <td>0</td>\n",
       "      <td>0</td>\n",
       "      <td>0</td>\n",
       "    </tr>\n",
       "    <tr>\n",
       "      <th>4</th>\n",
       "      <td>ed1329a6-064d-47e9-93bc-93f5a50822df</td>\n",
       "      <td>ec8972a3c7256ea4dcba61ee2bd9e3a8</td>\n",
       "      <td>87</td>\n",
       "      <td>Mozilla/5.0 (Windows NT 6.1; WOW64) AppleWebKit/537.36 (KHTML, like Gecko) Chrome/40.0.2214.115 Safari/537.36</td>\n",
       "      <td>Desktop - Chrome</td>\n",
       "      <td>2015-02-19</td>\n",
       "      <td>2015-02-19 12:24:57</td>\n",
       "      <td>2015-02-19 12:24:59</td>\n",
       "      <td>0</td>\n",
       "      <td>0</td>\n",
       "      <td>...</td>\n",
       "      <td>6a69db1a5876e9798947f20e2c52bcc8</td>\n",
       "      <td>88</td>\n",
       "      <td>Mozilla/5.0 (Windows NT 6.1; WOW64) AppleWebKit/537.36 (KHTML, like Gecko) Chrome/41.0.2272.89 Safari/537.36</td>\n",
       "      <td>Desktop - Chrome</td>\n",
       "      <td>2015-02-19</td>\n",
       "      <td>2015-02-19 22:21:58</td>\n",
       "      <td>2015-02-19 22:22:02</td>\n",
       "      <td>0</td>\n",
       "      <td>0</td>\n",
       "      <td>0</td>\n",
       "    </tr>\n",
       "  </tbody>\n",
       "</table>\n",
       "<p>5 rows × 21 columns</p>\n",
       "</div>"
      ],
      "text/plain": [
       "                             id_visitor                        id_session  \\\n",
       "0  ed1329a6-064d-47e9-93bc-93f5a50822df  a8dfb8ed5aa79e00ff14b2da297c9778   \n",
       "1  ed1329a6-064d-47e9-93bc-93f5a50822df  950277daef16f86dc2c05d2b212eea81   \n",
       "2  ed1329a6-064d-47e9-93bc-93f5a50822df  ee4e2f99dd0c0bef2d40e4bdf880c862   \n",
       "3  ed1329a6-064d-47e9-93bc-93f5a50822df  59fbde7b5d35403116c461fa7fc1ab6e   \n",
       "4  ed1329a6-064d-47e9-93bc-93f5a50822df  ec8972a3c7256ea4dcba61ee2bd9e3a8   \n",
       "\n",
       "  dim_session_number  \\\n",
       "0  83                  \n",
       "1  84                  \n",
       "2  85                  \n",
       "3  86                  \n",
       "4  87                  \n",
       "\n",
       "                                                                                                  dim_user_agent  \\\n",
       "0  Airbnb/6.0 iPhone/8.1.2                                                                                         \n",
       "1  Mozilla/5.0 (Windows NT 6.1; WOW64) AppleWebKit/537.36 (KHTML, like Gecko) Chrome/40.0.2214.115 Safari/537.36   \n",
       "2  Mozilla/5.0 (Windows NT 6.1; WOW64) AppleWebKit/537.36 (KHTML, like Gecko) Chrome/40.0.2214.115 Safari/537.36   \n",
       "3  Mozilla/5.0 (Windows NT 6.1; WOW64) AppleWebKit/537.36 (KHTML, like Gecko) Chrome/40.0.2214.115 Safari/537.36   \n",
       "4  Mozilla/5.0 (Windows NT 6.1; WOW64) AppleWebKit/537.36 (KHTML, like Gecko) Chrome/40.0.2214.115 Safari/537.36   \n",
       "\n",
       "  dim_device_app_combo          ds               ts_min               ts_max  \\\n",
       "0  iPhone - iOS         2015-02-16  2015-02-16 21:50:41  2015-02-16 22:13:42   \n",
       "1  Desktop - Chrome     2015-02-18  2015-02-18 11:57:15  2015-02-18 12:12:48   \n",
       "2  Desktop - Chrome     2015-02-18  2015-02-18 13:02:13  2015-02-18 13:05:36   \n",
       "3  Desktop - Chrome     2015-02-18  2015-02-18 14:18:17  2015-02-18 14:28:47   \n",
       "4  Desktop - Chrome     2015-02-19  2015-02-19 12:24:57  2015-02-19 12:24:59   \n",
       "\n",
       "  did_search sent_message            ...             \\\n",
       "0  0          0                      ...              \n",
       "1  0          0                      ...              \n",
       "2  0          0                      ...              \n",
       "3  0          0                      ...              \n",
       "4  0          0                      ...              \n",
       "\n",
       "                    next_id_session next_dim_session_number  \\\n",
       "0  b812bf56bf89b0b31f4e5b50d0c15ff8  84                       \n",
       "1  456083b5f5506ad125d595006819de1d  85                       \n",
       "2  94d30e9f3c8f92ae691e49d77a884777  86                       \n",
       "3  ab02139dc81bea4b126cf5043faf53d9  87                       \n",
       "4  6a69db1a5876e9798947f20e2c52bcc8  88                       \n",
       "\n",
       "                                                                                             next_dim_user_agent  \\\n",
       "0  Mozilla/5.0 (Windows NT 6.1; WOW64) AppleWebKit/537.36 (KHTML, like Gecko) Chrome/40.0.2214.115 Safari/537.36   \n",
       "1  Mozilla/5.0 (Windows NT 6.1; WOW64) AppleWebKit/537.36 (KHTML, like Gecko) Chrome/40.0.2214.115 Safari/537.36   \n",
       "2  Mozilla/5.0 (Windows NT 6.1; WOW64) AppleWebKit/537.36 (KHTML, like Gecko) Chrome/40.0.2214.115 Safari/537.36   \n",
       "3  Mozilla/5.0 (Windows NT 6.1; WOW64) AppleWebKit/537.36 (KHTML, like Gecko) Chrome/40.0.2214.115 Safari/537.36   \n",
       "4  Mozilla/5.0 (Windows NT 6.1; WOW64) AppleWebKit/537.36 (KHTML, like Gecko) Chrome/41.0.2272.89 Safari/537.36    \n",
       "\n",
       "  next_dim_device_app_combo     next_ds          next_ts_min  \\\n",
       "0  Desktop - Chrome          2015-02-18  2015-02-18 11:57:15   \n",
       "1  Desktop - Chrome          2015-02-18  2015-02-18 13:02:13   \n",
       "2  Desktop - Chrome          2015-02-18  2015-02-18 14:18:17   \n",
       "3  Desktop - Chrome          2015-02-19  2015-02-19 12:24:57   \n",
       "4  Desktop - Chrome          2015-02-19  2015-02-19 22:21:58   \n",
       "\n",
       "           next_ts_max next_did_search next_sent_message  \\\n",
       "0  2015-02-18 12:12:48  0               0                  \n",
       "1  2015-02-18 13:05:36  0               0                  \n",
       "2  2015-02-18 14:28:47  0               0                  \n",
       "3  2015-02-19 12:24:59  0               0                  \n",
       "4  2015-02-19 22:22:02  0               0                  \n",
       "\n",
       "  next_sent_booking_request  \n",
       "0  0                         \n",
       "1  0                         \n",
       "2  0                         \n",
       "3  0                         \n",
       "4  0                         \n",
       "\n",
       "[5 rows x 21 columns]"
      ]
     },
     "execution_count": 36,
     "metadata": {},
     "output_type": "execute_result"
    }
   ],
   "source": [
    "df.head()"
   ]
  },
  {
   "cell_type": "code",
   "execution_count": 47,
   "metadata": {
    "ExecuteTime": {
     "end_time": "2016-12-06T20:53:39.919291",
     "start_time": "2016-12-06T20:53:39.874175"
    },
    "collapsed": false
   },
   "outputs": [
    {
     "data": {
      "text/html": [
       "<div>\n",
       "<table border=\"1\" class=\"dataframe\">\n",
       "  <thead>\n",
       "    <tr style=\"text-align: right;\">\n",
       "      <th></th>\n",
       "      <th>Column</th>\n",
       "      <th>Type</th>\n",
       "      <th>Null</th>\n",
       "      <th>Partition Key</th>\n",
       "      <th>Comment</th>\n",
       "    </tr>\n",
       "  </thead>\n",
       "  <tbody>\n",
       "    <tr>\n",
       "      <th>0</th>\n",
       "      <td>id_visitor</td>\n",
       "      <td>varchar</td>\n",
       "      <td>True</td>\n",
       "      <td>False</td>\n",
       "      <td>id of the visitor</td>\n",
       "    </tr>\n",
       "    <tr>\n",
       "      <th>1</th>\n",
       "      <td>id_session</td>\n",
       "      <td>varchar</td>\n",
       "      <td>True</td>\n",
       "      <td>False</td>\n",
       "      <td>id of the session</td>\n",
       "    </tr>\n",
       "    <tr>\n",
       "      <th>2</th>\n",
       "      <td>dim_session_number</td>\n",
       "      <td>bigint</td>\n",
       "      <td>True</td>\n",
       "      <td>False</td>\n",
       "      <td>the number of session on a given day for a visitor</td>\n",
       "    </tr>\n",
       "    <tr>\n",
       "      <th>3</th>\n",
       "      <td>dim_user_agent</td>\n",
       "      <td>varchar</td>\n",
       "      <td>True</td>\n",
       "      <td>False</td>\n",
       "      <td>user agent of the session</td>\n",
       "    </tr>\n",
       "    <tr>\n",
       "      <th>4</th>\n",
       "      <td>dim_device_app_combo</td>\n",
       "      <td>varchar</td>\n",
       "      <td>True</td>\n",
       "      <td>False</td>\n",
       "      <td>parsed out device/app combo from user agent</td>\n",
       "    </tr>\n",
       "    <tr>\n",
       "      <th>5</th>\n",
       "      <td>ds</td>\n",
       "      <td>varchar</td>\n",
       "      <td>True</td>\n",
       "      <td>False</td>\n",
       "      <td>date stamp of session</td>\n",
       "    </tr>\n",
       "    <tr>\n",
       "      <th>6</th>\n",
       "      <td>ts_min</td>\n",
       "      <td>varchar</td>\n",
       "      <td>True</td>\n",
       "      <td>False</td>\n",
       "      <td>time of session start</td>\n",
       "    </tr>\n",
       "    <tr>\n",
       "      <th>7</th>\n",
       "      <td>ts_max</td>\n",
       "      <td>varchar</td>\n",
       "      <td>True</td>\n",
       "      <td>False</td>\n",
       "      <td>time of session end</td>\n",
       "    </tr>\n",
       "    <tr>\n",
       "      <th>8</th>\n",
       "      <td>did_search</td>\n",
       "      <td>bigint</td>\n",
       "      <td>True</td>\n",
       "      <td>False</td>\n",
       "      <td>binary flag indicating if the visitor performed a search during the session</td>\n",
       "    </tr>\n",
       "    <tr>\n",
       "      <th>9</th>\n",
       "      <td>sent_message</td>\n",
       "      <td>bigint</td>\n",
       "      <td>True</td>\n",
       "      <td>False</td>\n",
       "      <td>binary flag indicating if the visitor sent a message during the session</td>\n",
       "    </tr>\n",
       "    <tr>\n",
       "      <th>10</th>\n",
       "      <td>sent_booking_request</td>\n",
       "      <td>bigint</td>\n",
       "      <td>True</td>\n",
       "      <td>False</td>\n",
       "      <td>binary flag indicating if the visitor sent a booking request during the session</td>\n",
       "    </tr>\n",
       "  </tbody>\n",
       "</table>\n",
       "</div>"
      ],
      "text/plain": [
       "                  Column     Type  Null Partition Key  \\\n",
       "0   id_visitor            varchar  True  False          \n",
       "1   id_session            varchar  True  False          \n",
       "2   dim_session_number    bigint   True  False          \n",
       "3   dim_user_agent        varchar  True  False          \n",
       "4   dim_device_app_combo  varchar  True  False          \n",
       "5   ds                    varchar  True  False          \n",
       "6   ts_min                varchar  True  False          \n",
       "7   ts_max                varchar  True  False          \n",
       "8   did_search            bigint   True  False          \n",
       "9   sent_message          bigint   True  False          \n",
       "10  sent_booking_request  bigint   True  False          \n",
       "\n",
       "                                                                            Comment  \n",
       "0   id of the visitor                                                                \n",
       "1   id of the session                                                                \n",
       "2   the number of session on a given day for a visitor                               \n",
       "3   user agent of the session                                                        \n",
       "4   parsed out device/app combo from user agent                                      \n",
       "5   date stamp of session                                                            \n",
       "6   time of session start                                                            \n",
       "7   time of session end                                                              \n",
       "8   binary flag indicating if the visitor performed a search during the session      \n",
       "9   binary flag indicating if the visitor sent a message during the session          \n",
       "10  binary flag indicating if the visitor sent a booking request during the session  "
      ]
     },
     "execution_count": 47,
     "metadata": {},
     "output_type": "execute_result"
    }
   ],
   "source": [
    "data_dictionary = pd.read_csv(\"../data/data-dictionary.csv\")\n",
    "data_dictionary"
   ]
  },
  {
   "cell_type": "markdown",
   "metadata": {},
   "source": [
    "# Exploration"
   ]
  },
  {
   "cell_type": "code",
   "execution_count": 10,
   "metadata": {
    "ExecuteTime": {
     "end_time": "2016-12-06T20:39:36.204558",
     "start_time": "2016-12-06T20:39:36.197493"
    },
    "collapsed": false
   },
   "outputs": [
    {
     "data": {
      "text/plain": [
       "(7756, 21)"
      ]
     },
     "execution_count": 10,
     "metadata": {},
     "output_type": "execute_result"
    }
   ],
   "source": [
    "df.shape"
   ]
  },
  {
   "cell_type": "code",
   "execution_count": 11,
   "metadata": {
    "ExecuteTime": {
     "end_time": "2016-12-06T20:39:37.335543",
     "start_time": "2016-12-06T20:39:37.326790"
    },
    "collapsed": false
   },
   "outputs": [
    {
     "data": {
      "text/plain": [
       "Index([u'id_visitor', u'id_session', u'dim_session_number', u'dim_user_agent',\n",
       "       u'dim_device_app_combo', u'ds', u'ts_min', u'ts_max', u'did_search',\n",
       "       u'sent_message', u'sent_booking_request', u'next_id_session',\n",
       "       u'next_dim_session_number', u'next_dim_user_agent',\n",
       "       u'next_dim_device_app_combo', u'next_ds', u'next_ts_min',\n",
       "       u'next_ts_max', u'next_did_search', u'next_sent_message',\n",
       "       u'next_sent_booking_request'],\n",
       "      dtype='object')"
      ]
     },
     "execution_count": 11,
     "metadata": {},
     "output_type": "execute_result"
    }
   ],
   "source": [
    "df.columns"
   ]
  },
  {
   "cell_type": "code",
   "execution_count": 12,
   "metadata": {
    "ExecuteTime": {
     "end_time": "2016-12-06T20:39:37.880371",
     "start_time": "2016-12-06T20:39:37.837628"
    },
    "collapsed": false
   },
   "outputs": [],
   "source": [
    "unique_items = []\n",
    "for i in df.columns:\n",
    "    unique_items.append([i, df[i].nunique()])\n",
    "unique_items = pd.DataFrame(unique_items, \n",
    "                            columns=[\"column\", \"num_unique\"])"
   ]
  },
  {
   "cell_type": "code",
   "execution_count": 13,
   "metadata": {
    "ExecuteTime": {
     "end_time": "2016-12-06T20:39:39.031400",
     "start_time": "2016-12-06T20:39:38.416041"
    },
    "collapsed": false
   },
   "outputs": [
    {
     "data": {
      "image/png": "[encoded data removed]",
      "text/plain": [
       "<matplotlib.figure.Figure at 0x115a9f550>"
      ]
     },
     "metadata": {},
     "output_type": "display_data"
    }
   ],
   "source": [
    "plt.subplots(figsize=(5,5));\n",
    "sns.barplot(y=\"column\", x=\"num_unique\", data=unique_items, \n",
    "            orient=\"h\");\n",
    "plt.text(8000,20, \"(Total number of items: {})\".format(df.shape[0]), \n",
    "         fontsize=10, ha=\"right\")\n",
    "plt.title(\"Number of unique items per column\");\n",
    "plt.xlabel(\"Number of unique items\");\n",
    "plt.ylabel(\"Column name\");\n",
    "plt.show();"
   ]
  },
  {
   "cell_type": "markdown",
   "metadata": {},
   "source": [
    "## user_agent"
   ]
  },
  {
   "cell_type": "code",
   "execution_count": 124,
   "metadata": {
    "ExecuteTime": {
     "end_time": "2016-12-06T21:47:45.523133",
     "start_time": "2016-12-06T21:47:45.515930"
    },
    "collapsed": false
   },
   "outputs": [],
   "source": [
    "user_agent = df[[\"dim_user_agent\", \"next_dim_user_agent\"]].copy()"
   ]
  },
  {
   "cell_type": "code",
   "execution_count": 125,
   "metadata": {
    "ExecuteTime": {
     "end_time": "2016-12-06T21:47:46.048308",
     "start_time": "2016-12-06T21:47:46.016992"
    },
    "collapsed": false
   },
   "outputs": [],
   "source": [
    "user_agent[\"iphone\"] = user_agent[\"dim_user_agent\"].map(lambda x: 1 if \"iphone\" in x.lower() else 0)"
   ]
  },
  {
   "cell_type": "code",
   "execution_count": 126,
   "metadata": {
    "ExecuteTime": {
     "end_time": "2016-12-06T21:47:46.138937",
     "start_time": "2016-12-06T21:47:46.106708"
    },
    "collapsed": false
   },
   "outputs": [],
   "source": [
    "user_agent[\"ipad\"] = user_agent[\"dim_user_agent\"].map(lambda x: 1 if \"ipad\" in x.lower() else 0)"
   ]
  },
  {
   "cell_type": "code",
   "execution_count": 127,
   "metadata": {
    "ExecuteTime": {
     "end_time": "2016-12-06T21:47:46.223651",
     "start_time": "2016-12-06T21:47:46.190658"
    },
    "collapsed": false
   },
   "outputs": [],
   "source": [
    "user_agent[\"android\"] = user_agent[\"dim_user_agent\"].map(lambda x: 1 if \"android\" in x.lower() else 0)"
   ]
  },
  {
   "cell_type": "code",
   "execution_count": 128,
   "metadata": {
    "ExecuteTime": {
     "end_time": "2016-12-06T21:47:46.396956",
     "start_time": "2016-12-06T21:47:46.364685"
    },
    "collapsed": false
   },
   "outputs": [],
   "source": [
    "user_agent[\"windows\"] = user_agent[\"dim_user_agent\"].map(lambda x: 1 if \"windows\" in x.lower() else 0)"
   ]
  },
  {
   "cell_type": "code",
   "execution_count": 129,
   "metadata": {
    "ExecuteTime": {
     "end_time": "2016-12-06T21:47:46.396956",
     "start_time": "2016-12-06T21:47:46.364685"
    },
    "collapsed": false
   },
   "outputs": [],
   "source": [
    "user_agent[\"mac_os\"] = user_agent[\"dim_user_agent\"].map(lambda x: 1 if \"mac os\" in x.lower() else 0)"
   ]
  },
  {
   "cell_type": "code",
   "execution_count": 139,
   "metadata": {
    "ExecuteTime": {
     "end_time": "2016-12-06T21:48:17.526425",
     "start_time": "2016-12-06T21:48:17.244067"
    },
    "collapsed": false
   },
   "outputs": [],
   "source": [
    "user_agent[\"other\"] = user_agent[[\"iphone\", \"ipad\", \"android\", \n",
    "                                  \"windows\", \"mac_os\"]].apply(lambda x: 0 if sum(x) > 0 else 1, axis=1)"
   ]
  },
  {
   "cell_type": "code",
   "execution_count": 131,
   "metadata": {
    "ExecuteTime": {
     "end_time": "2016-12-06T21:47:47.204959",
     "start_time": "2016-12-06T21:47:47.174470"
    },
    "collapsed": false
   },
   "outputs": [],
   "source": [
    "user_agent[\"next_iphone\"] = user_agent[\"next_dim_user_agent\"].map(lambda x: 1 if \"iphone\" in x.lower() else 0)"
   ]
  },
  {
   "cell_type": "code",
   "execution_count": 132,
   "metadata": {
    "ExecuteTime": {
     "end_time": "2016-12-06T21:47:47.579004",
     "start_time": "2016-12-06T21:47:47.551051"
    },
    "collapsed": false
   },
   "outputs": [],
   "source": [
    "user_agent[\"next_ipad\"] = user_agent[\"next_dim_user_agent\"].map(lambda x: 1 if \"ipad\" in x.lower() else 0)"
   ]
  },
  {
   "cell_type": "code",
   "execution_count": 133,
   "metadata": {
    "ExecuteTime": {
     "end_time": "2016-12-06T21:47:48.283854",
     "start_time": "2016-12-06T21:47:48.259329"
    },
    "collapsed": false
   },
   "outputs": [],
   "source": [
    "user_agent[\"next_android\"] = user_agent[\"next_dim_user_agent\"].map(lambda x: 1 if \"android\" in x.lower() else 0)"
   ]
  },
  {
   "cell_type": "code",
   "execution_count": 134,
   "metadata": {
    "ExecuteTime": {
     "end_time": "2016-12-06T21:47:48.670726",
     "start_time": "2016-12-06T21:47:48.646788"
    },
    "collapsed": false
   },
   "outputs": [],
   "source": [
    "user_agent[\"next_windows\"] = user_agent[\"next_dim_user_agent\"].map(lambda x: 1 if \"windows\" in x.lower() else 0)"
   ]
  },
  {
   "cell_type": "code",
   "execution_count": 135,
   "metadata": {
    "ExecuteTime": {
     "end_time": "2016-12-06T21:47:49.004249",
     "start_time": "2016-12-06T21:47:48.980465"
    },
    "collapsed": false
   },
   "outputs": [],
   "source": [
    "user_agent[\"next_mac_os\"] = user_agent[\"next_dim_user_agent\"].map(lambda x: 1 if \"mac os\" in x.lower() else 0)"
   ]
  },
  {
   "cell_type": "code",
   "execution_count": 140,
   "metadata": {
    "ExecuteTime": {
     "end_time": "2016-12-06T21:48:19.894220",
     "start_time": "2016-12-06T21:48:19.641950"
    },
    "collapsed": false
   },
   "outputs": [],
   "source": [
    "user_agent[\"next_other\"] = user_agent[[\"next_iphone\", \"next_ipad\", \"next_android\", \n",
    "                                       \"next_windows\", \"next_mac_os\"]].apply(lambda x: 0 if sum(x) > 0 else 1, axis=1)"
   ]
  },
  {
   "cell_type": "code",
   "execution_count": 141,
   "metadata": {
    "ExecuteTime": {
     "end_time": "2016-12-06T21:48:19.987819",
     "start_time": "2016-12-06T21:48:19.939206"
    },
    "collapsed": false
   },
   "outputs": [
    {
     "data": {
      "text/html": [
       "<div>\n",
       "<table border=\"1\" class=\"dataframe\">\n",
       "  <thead>\n",
       "    <tr style=\"text-align: right;\">\n",
       "      <th></th>\n",
       "      <th>dim_user_agent</th>\n",
       "      <th>next_dim_user_agent</th>\n",
       "      <th>iphone</th>\n",
       "      <th>ipad</th>\n",
       "      <th>android</th>\n",
       "      <th>windows</th>\n",
       "      <th>mac_os</th>\n",
       "      <th>other</th>\n",
       "      <th>next_iphone</th>\n",
       "      <th>next_ipad</th>\n",
       "      <th>next_android</th>\n",
       "      <th>next_windows</th>\n",
       "      <th>next_mac_os</th>\n",
       "      <th>next_other</th>\n",
       "    </tr>\n",
       "  </thead>\n",
       "  <tbody>\n",
       "    <tr>\n",
       "      <th>0</th>\n",
       "      <td>Airbnb/6.0 iPhone/8.1.2</td>\n",
       "      <td>Mozilla/5.0 (Windows NT 6.1; WOW64) AppleWebKit/537.36 (KHTML, like Gecko) Chrome/40.0.2214.115 Safari/537.36</td>\n",
       "      <td>1</td>\n",
       "      <td>0</td>\n",
       "      <td>0</td>\n",
       "      <td>0</td>\n",
       "      <td>0</td>\n",
       "      <td>0</td>\n",
       "      <td>0</td>\n",
       "      <td>0</td>\n",
       "      <td>0</td>\n",
       "      <td>1</td>\n",
       "      <td>0</td>\n",
       "      <td>0</td>\n",
       "    </tr>\n",
       "    <tr>\n",
       "      <th>1</th>\n",
       "      <td>Mozilla/5.0 (Windows NT 6.1; WOW64) AppleWebKit/537.36 (KHTML, like Gecko) Chrome/40.0.2214.115 Safari/537.36</td>\n",
       "      <td>Mozilla/5.0 (Windows NT 6.1; WOW64) AppleWebKit/537.36 (KHTML, like Gecko) Chrome/40.0.2214.115 Safari/537.36</td>\n",
       "      <td>0</td>\n",
       "      <td>0</td>\n",
       "      <td>0</td>\n",
       "      <td>1</td>\n",
       "      <td>0</td>\n",
       "      <td>0</td>\n",
       "      <td>0</td>\n",
       "      <td>0</td>\n",
       "      <td>0</td>\n",
       "      <td>1</td>\n",
       "      <td>0</td>\n",
       "      <td>0</td>\n",
       "    </tr>\n",
       "    <tr>\n",
       "      <th>2</th>\n",
       "      <td>Mozilla/5.0 (Windows NT 6.1; WOW64) AppleWebKit/537.36 (KHTML, like Gecko) Chrome/40.0.2214.115 Safari/537.36</td>\n",
       "      <td>Mozilla/5.0 (Windows NT 6.1; WOW64) AppleWebKit/537.36 (KHTML, like Gecko) Chrome/40.0.2214.115 Safari/537.36</td>\n",
       "      <td>0</td>\n",
       "      <td>0</td>\n",
       "      <td>0</td>\n",
       "      <td>1</td>\n",
       "      <td>0</td>\n",
       "      <td>0</td>\n",
       "      <td>0</td>\n",
       "      <td>0</td>\n",
       "      <td>0</td>\n",
       "      <td>1</td>\n",
       "      <td>0</td>\n",
       "      <td>0</td>\n",
       "    </tr>\n",
       "    <tr>\n",
       "      <th>3</th>\n",
       "      <td>Mozilla/5.0 (Windows NT 6.1; WOW64) AppleWebKit/537.36 (KHTML, like Gecko) Chrome/40.0.2214.115 Safari/537.36</td>\n",
       "      <td>Mozilla/5.0 (Windows NT 6.1; WOW64) AppleWebKit/537.36 (KHTML, like Gecko) Chrome/40.0.2214.115 Safari/537.36</td>\n",
       "      <td>0</td>\n",
       "      <td>0</td>\n",
       "      <td>0</td>\n",
       "      <td>1</td>\n",
       "      <td>0</td>\n",
       "      <td>0</td>\n",
       "      <td>0</td>\n",
       "      <td>0</td>\n",
       "      <td>0</td>\n",
       "      <td>1</td>\n",
       "      <td>0</td>\n",
       "      <td>0</td>\n",
       "    </tr>\n",
       "    <tr>\n",
       "      <th>4</th>\n",
       "      <td>Mozilla/5.0 (Windows NT 6.1; WOW64) AppleWebKit/537.36 (KHTML, like Gecko) Chrome/40.0.2214.115 Safari/537.36</td>\n",
       "      <td>Mozilla/5.0 (Windows NT 6.1; WOW64) AppleWebKit/537.36 (KHTML, like Gecko) Chrome/41.0.2272.89 Safari/537.36</td>\n",
       "      <td>0</td>\n",
       "      <td>0</td>\n",
       "      <td>0</td>\n",
       "      <td>1</td>\n",
       "      <td>0</td>\n",
       "      <td>0</td>\n",
       "      <td>0</td>\n",
       "      <td>0</td>\n",
       "      <td>0</td>\n",
       "      <td>1</td>\n",
       "      <td>0</td>\n",
       "      <td>0</td>\n",
       "    </tr>\n",
       "  </tbody>\n",
       "</table>\n",
       "</div>"
      ],
      "text/plain": [
       "                                                                                                  dim_user_agent  \\\n",
       "0  Airbnb/6.0 iPhone/8.1.2                                                                                         \n",
       "1  Mozilla/5.0 (Windows NT 6.1; WOW64) AppleWebKit/537.36 (KHTML, like Gecko) Chrome/40.0.2214.115 Safari/537.36   \n",
       "2  Mozilla/5.0 (Windows NT 6.1; WOW64) AppleWebKit/537.36 (KHTML, like Gecko) Chrome/40.0.2214.115 Safari/537.36   \n",
       "3  Mozilla/5.0 (Windows NT 6.1; WOW64) AppleWebKit/537.36 (KHTML, like Gecko) Chrome/40.0.2214.115 Safari/537.36   \n",
       "4  Mozilla/5.0 (Windows NT 6.1; WOW64) AppleWebKit/537.36 (KHTML, like Gecko) Chrome/40.0.2214.115 Safari/537.36   \n",
       "\n",
       "                                                                                             next_dim_user_agent  \\\n",
       "0  Mozilla/5.0 (Windows NT 6.1; WOW64) AppleWebKit/537.36 (KHTML, like Gecko) Chrome/40.0.2214.115 Safari/537.36   \n",
       "1  Mozilla/5.0 (Windows NT 6.1; WOW64) AppleWebKit/537.36 (KHTML, like Gecko) Chrome/40.0.2214.115 Safari/537.36   \n",
       "2  Mozilla/5.0 (Windows NT 6.1; WOW64) AppleWebKit/537.36 (KHTML, like Gecko) Chrome/40.0.2214.115 Safari/537.36   \n",
       "3  Mozilla/5.0 (Windows NT 6.1; WOW64) AppleWebKit/537.36 (KHTML, like Gecko) Chrome/40.0.2214.115 Safari/537.36   \n",
       "4  Mozilla/5.0 (Windows NT 6.1; WOW64) AppleWebKit/537.36 (KHTML, like Gecko) Chrome/41.0.2272.89 Safari/537.36    \n",
       "\n",
       "   iphone  ipad  android  windows  mac_os  other  next_iphone  next_ipad  \\\n",
       "0  1       0     0        0        0       0      0            0           \n",
       "1  0       0     0        1        0       0      0            0           \n",
       "2  0       0     0        1        0       0      0            0           \n",
       "3  0       0     0        1        0       0      0            0           \n",
       "4  0       0     0        1        0       0      0            0           \n",
       "\n",
       "   next_android  next_windows  next_mac_os  next_other  \n",
       "0  0             1             0            0           \n",
       "1  0             1             0            0           \n",
       "2  0             1             0            0           \n",
       "3  0             1             0            0           \n",
       "4  0             1             0            0           "
      ]
     },
     "execution_count": 141,
     "metadata": {},
     "output_type": "execute_result"
    }
   ],
   "source": [
    "user_agent.head()"
   ]
  },
  {
   "cell_type": "code",
   "execution_count": 142,
   "metadata": {
    "ExecuteTime": {
     "end_time": "2016-12-06T21:48:27.924173",
     "start_time": "2016-12-06T21:48:27.549496"
    },
    "collapsed": false
   },
   "outputs": [
    {
     "data": {
      "image/png": "[encoded data removed]",
      "text/plain": [
       "<matplotlib.figure.Figure at 0x11b43edd0>"
      ]
     },
     "metadata": {},
     "output_type": "display_data"
    }
   ],
   "source": [
    "user_agent.iloc[:,2:].sum().plot(kind=\"barh\");\n",
    "plt.title(\"Distribution of devices used\");\n",
    "plt.ylabel(\"Device\");\n",
    "plt.xlabel(\"Count\");\n",
    "plt.show();"
   ]
  },
  {
   "cell_type": "code",
   "execution_count": null,
   "metadata": {
    "collapsed": false
   },
   "outputs": [],
   "source": []
  },
  {
   "cell_type": "code",
   "execution_count": null,
   "metadata": {
    "collapsed": false
   },
   "outputs": [],
   "source": []
  },
  {
   "cell_type": "code",
   "execution_count": null,
   "metadata": {
    "collapsed": false
   },
   "outputs": [],
   "source": []
  },
  {
   "cell_type": "code",
   "execution_count": null,
   "metadata": {
    "collapsed": false
   },
   "outputs": [],
   "source": []
  }
 ],
 "metadata": {
  "anaconda-cloud": {},
  "kernelspec": {
   "display_name": "Python [default]",
   "language": "python",
   "name": "python2"
  },
  "language_info": {
   "codemirror_mode": {
    "name": "ipython",
    "version": 2
   },
   "file_extension": ".py",
   "mimetype": "text/x-python",
   "name": "python",
   "nbconvert_exporter": "python",
   "pygments_lexer": "ipython2",
   "version": "2.7.12"
  },
  "toc": {
   "nav_menu": {
    "height": "48px",
    "width": "252px"
   },
   "navigate_menu": true,
   "number_sections": true,
   "sideBar": true,
   "threshold": 4,
   "toc_cell": false,
   "toc_section_display": "block",
   "toc_window_display": false
  }
 },
 "nbformat": 4,
 "nbformat_minor": 1
}
